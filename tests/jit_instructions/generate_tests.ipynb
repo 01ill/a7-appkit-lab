{
 "cells": [
  {
   "cell_type": "code",
   "execution_count": 3,
   "id": "1e101d5d",
   "metadata": {},
   "outputs": [],
   "source": [
    "instructions = \"\"\"\n",
    ".syntax unified\n",
    "ldr r9, [r1, r3, lsl #2]\n",
    "ldr r10, [r2, r8, lsl #0]\n",
    "\"\"\"\n",
    "with open(\"test_output.s\", \"w\") as f:\n",
    "    f.write(instructions)"
   ]
  },
  {
   "cell_type": "code",
   "execution_count": 4,
   "id": "9fe0ccdc",
   "metadata": {},
   "outputs": [
    {
     "name": "stdout",
     "output_type": "stream",
     "text": [
      "\n",
      "test_output.o:     file format elf32-littlearm\n",
      "\n",
      "\n",
      "Disassembly of section .text:\n",
      "\n",
      "00000000 <.text>:\n",
      "   0:\tf851 9023 \tldr.w\tr9, [r1, r3, lsl #2]\n",
      "   4:\tf852 a008 \tldr.w\tsl, [r2, r8]\n"
     ]
    }
   ],
   "source": [
    "!/Applications/ArmGNUToolchain/14.2.rel1/arm-none-eabi/bin/arm-none-eabi-as -mthumb test_output.s -o test_output.o\n",
    "!/Applications/ArmGNUToolchain/14.2.rel1/arm-none-eabi/bin/arm-none-eabi-objdump -d test_output.o\n",
    "!rm test_output.o\n",
    "!rm test_output.s"
   ]
  },
  {
   "cell_type": "code",
   "execution_count": null,
   "id": "7ab89386",
   "metadata": {},
   "outputs": [],
   "source": []
  }
 ],
 "metadata": {
  "kernelspec": {
   "display_name": "base",
   "language": "python",
   "name": "python3"
  },
  "language_info": {
   "codemirror_mode": {
    "name": "ipython",
    "version": 3
   },
   "file_extension": ".py",
   "mimetype": "text/x-python",
   "name": "python",
   "nbconvert_exporter": "python",
   "pygments_lexer": "ipython3",
   "version": "3.12.9"
  }
 },
 "nbformat": 4,
 "nbformat_minor": 5
}
